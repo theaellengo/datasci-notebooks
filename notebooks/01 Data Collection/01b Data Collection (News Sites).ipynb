{
 "cells": [
  {
   "cell_type": "markdown",
   "metadata": {},
   "source": [
    "# Data Collection - Pokemon and News Sites"
   ]
  },
  {
   "cell_type": "markdown",
   "metadata": {},
   "source": [
    "Go, Thea Ellen T. | Section S12"
   ]
  },
  {
   "cell_type": "markdown",
   "metadata": {},
   "source": [
    "## News Site (The Verge)\n",
    "Get the news articles published on March 11-12. Decide which news site you want to get articles from. Make sure you get the following information:\n",
    "1. date\n",
    "2. title\n",
    "3. full article\n",
    "4. author"
   ]
  },
  {
   "cell_type": "code",
   "execution_count": 1,
   "metadata": {},
   "outputs": [],
   "source": [
    "import json\n",
    "import requests\n",
    "import re\n",
    "from newsapi import NewsApiClient\n",
    "from bs4 import BeautifulSoup"
   ]
  },
  {
   "cell_type": "code",
   "execution_count": 2,
   "metadata": {},
   "outputs": [],
   "source": [
    "newsapi = NewsApiClient(api_key='d497274b991d4c5e8aa6e01d5791ac55')"
   ]
  },
  {
   "cell_type": "code",
   "execution_count": 3,
   "metadata": {},
   "outputs": [],
   "source": [
    "articles = newsapi.get_everything(sources='the-verge', from_param='2021-03-11', to='2021-03-12')['articles']"
   ]
  },
  {
   "cell_type": "markdown",
   "metadata": {},
   "source": [
    "### Test on some instance of data"
   ]
  },
  {
   "cell_type": "markdown",
   "metadata": {},
   "source": [
    "Inspect one article to see structure of data"
   ]
  },
  {
   "cell_type": "code",
   "execution_count": 4,
   "metadata": {},
   "outputs": [
    {
     "data": {
      "text/plain": [
       "{'source': {'id': 'the-verge', 'name': 'The Verge'},\n",
       " 'author': 'Megan Farokhmanesh',\n",
       " 'title': 'Why game developers can’t get a handle on doors',\n",
       " 'description': 'Over the past week, dozens of developers across multiple disciplines and teams shared their frustrations on Twitter. Death Trash creator Stephan Hövelbrinks explained that doors “have all sorts of possible bugs.” The Last of Us Part II co-game director Kurt M…',\n",
       " 'url': 'https://www.theverge.com/22328169/game-development-doors-design-difficult',\n",
       " 'urlToImage': 'https://cdn.vox-cdn.com/thumbor/4uB363X75nkChNEPVRI5R6BXWKg=/0x38:1920x1043/fit-in/1200x630/cdn.vox-cdn.com/uploads/chorus_asset/file/22366570/Nightmare8.jpg',\n",
       " 'publishedAt': '2021-03-12T22:17:29Z',\n",
       " 'content': 'The best kind of door in a video game is the one no one remembers. Sure, everyone can appreciate a big, beautiful door with great animations, says Owlchemy Labs developer Pete Galbraith. But in a vid… [+5812 chars]'}"
      ]
     },
     "execution_count": 4,
     "metadata": {},
     "output_type": "execute_result"
    }
   ],
   "source": [
    "articles[0]"
   ]
  },
  {
   "cell_type": "markdown",
   "metadata": {},
   "source": [
    "Identify columns to be used"
   ]
  },
  {
   "cell_type": "code",
   "execution_count": 5,
   "metadata": {},
   "outputs": [
    {
     "name": "stdout",
     "output_type": "stream",
     "text": [
      "Some Bethesda games now on Xbox Game Pass are getting frame rate boosts on Xbox Series X/S\n",
      "Nick Statt\n",
      "2021-03-12T21:52:25Z\n",
      "https://www.theverge.com/2021/3/12/22328089/microsoft-xbox-series-x-bethesda-frame-rate-boost-game-pass\n",
      "Dishonored: Definitive Edition, Fallout games, and Prey boosted to 60 fps\r\n",
      "Illustration by Alex Castro / The Verge\r\n",
      "Microsofts Xbox Game Pass platform just got a huge boost with the addition of 20 ne… [+1489 chars]\n"
     ]
    }
   ],
   "source": [
    "print(articles[1]['title'])\n",
    "print(articles[1]['author'])\n",
    "print(articles[1]['publishedAt'])\n",
    "print(articles[1]['url'])\n",
    "print(articles[1]['content'])"
   ]
  },
  {
   "cell_type": "markdown",
   "metadata": {},
   "source": [
    "Parse HTML"
   ]
  },
  {
   "cell_type": "code",
   "execution_count": 6,
   "metadata": {},
   "outputs": [],
   "source": [
    "soup = BeautifulSoup(requests.get(articles[0]['url']).content, 'html.parser')"
   ]
  },
  {
   "cell_type": "markdown",
   "metadata": {},
   "source": [
    "Get text from article, remove duplicate spaces and multiple newlines"
   ]
  },
  {
   "cell_type": "code",
   "execution_count": 7,
   "metadata": {
    "scrolled": true
   },
   "outputs": [
    {
     "name": "stdout",
     "output_type": "stream",
     "text": [
      "The best kind of door in a video game is the one no one remembers. Sure, everyone can appreciate a big, beautiful door with great animations, says Owlchemy Labs developer Pete Galbraith. But in a video game, doors are often synonymous with a massive design headache. Forgettable means a developer has done their job well. “If it fits into the environment, makes sense for its context, and works exactly how the player expects, then in that instant it was simply a door as real as any other in the player’s real life,” says Galbraith. “I can’t imagine higher praise for a door in a game.”\n",
      "Over the past week, dozens of developers across multiple disciplines and teams shared their frustrations on Twitter. Death Trash creator Stephan Hövelbrinks explained that doors “have all sorts of possible bugs.” The Last of Us Part II co-game director Kurt Margenau called it “the thing that took the longest to get right.” How doors work is different during “combat tension,” when players are mid-encounter, vs. not, for example: doors slowly close automatically during combat, but remain open during exploration. “If a player is going to open a door, it can’t just magically fly open, the character has to reach to the doorknob and push it open,” Margenau explained in one tweet. “But what about closing it behind you? How do you do that while sprinting?”\n",
      "If a door hits an NPC, does the door stop, or does the NPC move? \n",
      "Doors aren’t the only ordinary object developers struggle with. Developers The Verge spoke to point to objects like ropes or mirror. After Half-Life: Alyx’s release, one developer on the project spoke at length about how they managed to make the bottles of booze look so realistic. Designer Liz England points to ladders, elevators, and moving platforms as well. “I think doors themselves tend to get a much bigger reputation for being terrible because they are (1) so much more common in the real world (I use doors every single day!), and (2) are much more common, then, in games, so more people can use it as a touchstone for ‘unexpectedly difficult interactivity,’” England tells The Verge. “I’ve never had to implement a mirror or a rope, but I have had my fair share of doors.”\n",
      "A door isn’t exactly mankind’s best or even smartest invention in the real world. It’s a comically simple concept — open big rectangle for entry or exit — that in development becomes a team-wide problem. As Crystal Dynamics game director Will Kerslake put it in a message to The Verge, there are “so many issues with doors.” In one example, touching specifically on animation, Kerslake explained that doors can open toward or away from you; handles can be on either side. “If you can engage with that door from different states, like crouch or sprinting, then that’s an additional set of animations,” he says. “A door you pull open, requires you to back up in the real world to step out of the way, that’s another set of issues. In a first-person game you can animate the door and not the player, and this is easier. In a high-fidelity third-person game there is an expectation that the player’s hand will move to the handle.” And the players’ location and angle when they engage with any door can and will vary. \n",
      "Other problems might involve several players all scrabbling for a door at the same time, or even non-player characters. If a door hits an NPC, does the door stop, or does the NPC move? “The choices here can cause all kinds of bugs depending on your game,” says Kerslake.\n",
      "It’s not that making doors in a video game is an impossible task. For some developers, it’s just not worth the trouble. “As a result many games avoid doors in gameplay, you’d be surprised at how many games don’t have interactive doors at all,” says Keslake. “Lots of doorways, but the important doors are missing or already open. The next step up in complexity is doors used only as progress gates, they open only and then can’t be closed again.” \n",
      "“you’d be surprised at how many games don’t have interactive doors at all”\n",
      "Technical points, of which there are many, set aside, how players process the digital representation of a door matters. Everyone knows how a door works and therefore has a subconscious understanding and expectation of how they move, sound, look. The level of accuracy needed for a player to believe the door is a door is higher for a common object than a fantasy one, says Galbraith. \n",
      "“Our ideas of how we interact with them are incredibly clear due to the cognitive reinforcement we have received from interacting with them so often in a variety of different ways. For doors like the ones in our homes, we subconsciously learn the minute details of how they act, such as the rate at which they close or how much we can move them while they are locked. So when we see a door in a game that closes too fast or without friction or when there’s a locked door where the handle doesn’t jiggle and make a sound we’ll notice that something isn’t quite right about it.”\n",
      "You can still fib it a little. While most doors only go in one direction, for example, game doors will often swing either way. “When these sorts of virtual doors look, sound, and behave like regular doors, then they hit a level of mental acceptance with the player that allows the player to continue without questioning why every door in the game just so happens to open away from them,” Galbraith says. “To them it’s just a weird coincidence that the brain subconsciously chooses to ignore.”\n",
      "Doors aren’t just an aesthetic or immersion technique in video games; often they serve as part of level design. They’re gates that keep players from moving on until they’ve finished a puzzle or beaten a boss; they can act as markers for the player’s progress, build tension, or act as cover. “Doors are just one of a variety of tools that a developer can use when designing levels,” Galbraith says. “Many games employ other methods alongside doors to avoid potential issues and even just to help vary the content.”\n",
      "With one exception: “Unless the door was really tiny and cute, in which case then it’s just a-door-able!”\n"
     ]
    }
   ],
   "source": [
    "text = soup.find_all('div', {'class': 'c-entry-content'})\n",
    "a = re.sub(r'\\n\\s*\\n', '\\n\\n', text[0].getText().rstrip('\\n').lstrip('\\n'))\n",
    "a = re.sub(r' * ', ' ', a)\n",
    "print(a)"
   ]
  },
  {
   "cell_type": "markdown",
   "metadata": {},
   "source": [
    "### Iterate through the data"
   ]
  },
  {
   "cell_type": "code",
   "execution_count": null,
   "metadata": {},
   "outputs": [],
   "source": [
    "listofarticles = []\n",
    "\n",
    "for i in range(len(articles)):\n",
    "    info = articles[i]\n",
    "    soup = BeautifulSoup(requests.get(info['url']).content, 'html.parser')\n",
    "    text = soup.find_all('div', {'class': 'c-entry-content'})\n",
    "    temp = text[0].getText().rstrip('\\n').lstrip('\\n')\n",
    "    temp = re.sub(r'\\n\\s*\\n', '\\n\\n', temp)\n",
    "    temp = re.sub(r' * ', ' ', temp)\n",
    "    data = {\n",
    "        \"title\": info['title'],\n",
    "        \"author\": info['author'],\n",
    "        \"date\": info['publishedAt'],\n",
    "        \"url\": info['url'],\n",
    "        \"preview\": info['content'],\n",
    "        \"fulltext\": temp\n",
    "    }\n",
    "    listofarticles.append(data)\n",
    "\n",
    "listofarticles"
   ]
  },
  {
   "cell_type": "markdown",
   "metadata": {},
   "source": [
    "### Save to JSON file"
   ]
  },
  {
   "cell_type": "code",
   "execution_count": null,
   "metadata": {},
   "outputs": [],
   "source": [
    "with open('news.json', 'w') as json_file:\n",
    "    json.dump(listofarticles, json_file)"
   ]
  },
  {
   "cell_type": "code",
   "execution_count": null,
   "metadata": {},
   "outputs": [],
   "source": []
  }
 ],
 "metadata": {
  "kernelspec": {
   "display_name": "Python 3",
   "language": "python",
   "name": "python3"
  },
  "language_info": {
   "codemirror_mode": {
    "name": "ipython",
    "version": 3
   },
   "file_extension": ".py",
   "mimetype": "text/x-python",
   "name": "python",
   "nbconvert_exporter": "python",
   "pygments_lexer": "ipython3",
   "version": "3.8.5"
  }
 },
 "nbformat": 4,
 "nbformat_minor": 4
}
